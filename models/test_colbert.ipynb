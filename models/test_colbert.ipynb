{
 "cells": [
  {
   "cell_type": "code",
   "execution_count": 2,
   "metadata": {},
   "outputs": [],
   "source": [
    "import subprocess\n",
    "import os\n",
    "\n",
    "result = subprocess.run('bash -c \"source /etc/network_turbo && env | grep proxy\"', shell=True, capture_output=True, text=True)\n",
    "output = result.stdout\n",
    "for line in output.splitlines():\n",
    "    if '=' in line:\n",
    "        var, value = line.split('=', 1)\n",
    "        os.environ[var] = value"
   ]
  },
  {
   "cell_type": "code",
   "execution_count": 3,
   "metadata": {},
   "outputs": [
    {
     "data": {
      "application/vnd.jupyter.widget-view+json": {
       "model_id": "09b646d8f682412ca4979ff049e2b40c",
       "version_major": 2,
       "version_minor": 0
      },
      "text/plain": [
       "Fetching 5 files:   0%|          | 0/5 [00:00<?, ?it/s]"
      ]
     },
     "metadata": {},
     "output_type": "display_data"
    },
    {
     "data": {
      "application/vnd.jupyter.widget-view+json": {
       "model_id": "c151ae86bc1a4a1483cf2416e7e50162",
       "version_major": 2,
       "version_minor": 0
      },
      "text/plain": [
       "special_tokens_map.json:   0%|          | 0.00/112 [00:00<?, ?B/s]"
      ]
     },
     "metadata": {},
     "output_type": "display_data"
    },
    {
     "data": {
      "application/vnd.jupyter.widget-view+json": {
       "model_id": "195a2d5a1d7d4aad89b9a17a17635279",
       "version_major": 2,
       "version_minor": 0
      },
      "text/plain": [
       "config.json:   0%|          | 0.00/743 [00:00<?, ?B/s]"
      ]
     },
     "metadata": {},
     "output_type": "display_data"
    },
    {
     "data": {
      "application/vnd.jupyter.widget-view+json": {
       "model_id": "7c2688af256147198354d91d7dbaf640",
       "version_major": 2,
       "version_minor": 0
      },
      "text/plain": [
       "tokenizer_config.json:   0%|          | 0.00/405 [00:00<?, ?B/s]"
      ]
     },
     "metadata": {},
     "output_type": "display_data"
    },
    {
     "data": {
      "application/vnd.jupyter.widget-view+json": {
       "model_id": "a4ba8b5d61b3443ebcb7965beaf9fab4",
       "version_major": 2,
       "version_minor": 0
      },
      "text/plain": [
       "tokenizer.json:   0%|          | 0.00/466k [00:00<?, ?B/s]"
      ]
     },
     "metadata": {},
     "output_type": "display_data"
    },
    {
     "data": {
      "application/vnd.jupyter.widget-view+json": {
       "model_id": "98098701e83c4e8e9660a46e83acecc2",
       "version_major": 2,
       "version_minor": 0
      },
      "text/plain": [
       "model.onnx:   0%|          | 0.00/436M [00:00<?, ?B/s]"
      ]
     },
     "metadata": {},
     "output_type": "display_data"
    },
    {
     "name": "stdout",
     "output_type": "stream",
     "text": [
      "(42, 128)\n"
     ]
    }
   ],
   "source": [
    "from qdrant_client import QdrantClient, models\n",
    "\n",
    "qdrant_client = QdrantClient(\":memory:\") # Qdrant is running from RAM.\n",
    "\n",
    "from fastembed import LateInteractionTextEmbedding\n",
    "\n",
    "#这是用来展示所有支持的模型的\n",
    "#LateInteractionTextEmbedding.list_supported_models()\n",
    "\n",
    "#加载colbert\n",
    "embedding_model = LateInteractionTextEmbedding(\"colbert-ir/colbertv2.0\",cache_dir=\"/root/autodl-tmp/model_cache\")\n",
    "\n",
    "descriptions = [\"In 1431, Jeanne d'Arc is placed on trial on charges of heresy. The ecclesiastical jurists attempt to force Jeanne to recant her claims of holy visions.\", \"A film projectionist longs to be a detective, and puts his meagre skills to work when he is framed by a rival for stealing his girlfriend's father's pocketwatch.\"]\n",
    "\n",
    "metadata = [{\"movie_name\": \"The Passion of Joan of Arc\", \"movie_watch_time_min\": 114, \"movie_description\": \"In 1431, Jeanne d'Arc is placed on trial on charges of heresy. The ecclesiastical jurists attempt to force Jeanne to recant her claims of holy visions.\"},{\"movie_name\": \"Sherlock Jr.\", \"movie_watch_time_min\": 45, \"movie_description\": \"A film projectionist longs to be a detective, and puts his meagre skills to work when he is framed by a rival for stealing his girlfriend's father's pocketwatch.\"}]\n",
    "\n",
    "descriptions_embeddings = list(embedding_model.embed(descriptions))\n",
    "print(descriptions_embeddings[0].shape)  #（48，128）\n",
    "\n",
    "\n",
    "# qdrant_client.create_collection(    \n",
    "# collection_name=\"movies\",    \n",
    "# vectors_config=models.VectorParams(\n",
    "# size=128, #size of each vector produced by ColBERT        \n",
    "# distance=models.Distance.COSINE, #similarity metric between each vector     \n",
    "# multivector_config=models.MultiVectorConfig(            comparator=models.MultiVectorComparator.MAX_SIM #similarity metric between multivectors (matrices) \n",
    "# ),    \n",
    "# ),\n",
    "# )\n",
    "\n",
    "# #为了使此集合可读，让我们将影片元数据（名称、文本形式的描述和影片的长度）与嵌入的描述一起保存。\n",
    "# qdrant_client.upload_points(    \n",
    "# collection_name=\"movies\",    \n",
    "# points=[        models.PointStruct(            id=idx,            payload=metadata[idx],            vector=vector        )        \n",
    "# for idx, vector in enumerate(descriptions_embeddings)    \n",
    "# ],\n",
    "# )\n"
   ]
  }
 ],
 "metadata": {
  "kernelspec": {
   "display_name": "base",
   "language": "python",
   "name": "python3"
  },
  "language_info": {
   "codemirror_mode": {
    "name": "ipython",
    "version": 3
   },
   "file_extension": ".py",
   "mimetype": "text/x-python",
   "name": "python",
   "nbconvert_exporter": "python",
   "pygments_lexer": "ipython3",
   "version": "3.10.8"
  }
 },
 "nbformat": 4,
 "nbformat_minor": 2
}
