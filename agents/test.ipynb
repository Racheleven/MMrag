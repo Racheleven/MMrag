{
 "cells": [
  {
   "cell_type": "code",
   "execution_count": 30,
   "metadata": {},
   "outputs": [],
   "source": [
    "from openai import OpenAI\n",
    "\n",
    "class myVLM:\n",
    "    def __init__(self, model_name=\"Qwen/Qwen2.5-VL-32B-Instruct\"):\n",
    "        self.client = OpenAI(\n",
    "            api_key=\"sk-vzueoszaobqmmtpcbxtycvombxzwbxrbmtzllrdnahoebsui\",\n",
    "            base_url=\"https://api.siliconflow.cn/v1\"\n",
    "        )\n",
    "        self.model_name=\"Pro/Qwen/Qwen2.5-VL-7B-Instruct\"\n",
    "    \n",
    "\n",
    "    def create_messages(self,image_path,system_prompt,query):\n",
    "        import base64\n",
    "\n",
    "        def encode_image(image_path):\n",
    "            with open(image_path, \"rb\") as image_file:\n",
    "                return base64.b64encode(image_file.read()).decode(\"utf-8\")\n",
    "        # # Path to your image\n",
    "        # image_path = \"/root/autodl-tmp/test_images/05-03-18-political-release.pdf_page_1.png\"\n",
    "\n",
    "        # Getting the Base64 string\n",
    "        base64_image = encode_image(image_path)\n",
    "\n",
    "        msg=[\n",
    "                {\n",
    "                    \"role\": \"system\",\n",
    "                    \"content\": [{\"type\":\"text\",\"text\":system_prompt.format(query=query)}]},\n",
    "                {\n",
    "                    \"role\": \"user\",\n",
    "                    \"content\": [\n",
    "                        {\n",
    "                            \"type\": \"image_url\",\n",
    "                            \"image_url\": {\"url\": f\"data:image/png;base64,{base64_image}\"}, \n",
    "                        },\n",
    "                        \n",
    "                    ],\n",
    "                }\n",
    "            ]\n",
    "        return msg\n",
    "            \n",
    "    def invoke(self,image_path,system_prompt,query):\n",
    "        msg=self.create_messages(image_path,system_prompt,query)\n",
    "\n",
    "        completion = self.client.chat.completions.create(\n",
    "            model=self.model_name,\n",
    "            messages=msg,\n",
    "        )\n",
    "\n",
    "        return completion\n",
    "    "
   ]
  },
  {
   "cell_type": "code",
   "execution_count": 31,
   "metadata": {},
   "outputs": [],
   "source": [
    "system_prompt=\"\"\"\n",
    "你是一个专业的证据抽取助手。请严格根据用户提供的图片资料内容，提取图片中能直接回答查询问题的证据片段，转换为文字陈述，并按照指定格式返回。\n",
    "    \n",
    "    查询问题：\n",
    "    {query}\n",
    "    \n",
    "    提取要求：\n",
    "    1. 只输出与查询直接相关的证据\n",
    "    2. 适当整理语言，但不要添加额外信息\n",
    "    3. 以JSON格式返回结果，包含一个名为\"evidence_list\"的数组\n",
    "    4. 不要添加任何解释或说明\n",
    "    5. 如果图片与查询的问题无关，则返回的evidence_lists为空。\n",
    "    \n",
    "    正确格式示例：\n",
    "    {{\n",
    "        \"evidence_list\": [\n",
    "            \"证据片段1\",\n",
    "            \"证据片段2\"\n",
    "        ]\n",
    "    }}\n",
    "    \n",
    "    \"\"\""
   ]
  },
  {
   "cell_type": "code",
   "execution_count": 32,
   "metadata": {},
   "outputs": [
    {
     "data": {
      "text/plain": [
       "ChatCompletion(id='01964e9a0fe83ea543e35dc7ea2b7347', choices=[Choice(finish_reason='stop', index=0, logprobs=None, message=ChatCompletionMessage(content='```json\\n{\\n    \"evidence_list\": []\\n}\\n```', refusal=None, role='assistant', annotations=None, audio=None, function_call=None, tool_calls=None))], created=1745075442, model='Pro/Qwen/Qwen2.5-VL-7B-Instruct', object='chat.completion', service_tier=None, system_fingerprint='', usage=CompletionUsage(completion_tokens=13, prompt_tokens=5035, total_tokens=5048, completion_tokens_details=None, prompt_tokens_details=None))"
      ]
     },
     "execution_count": 32,
     "metadata": {},
     "output_type": "execute_result"
    }
   ],
   "source": [
    "model=myVLM()\n",
    "image_path=\"/root/autodl-tmp/test_images/05-03-18-political-release.pdf_page_1.png\"\n",
    "query=\"Among the adults conducted the survey on April 25 - May 1 2018, how many adults rated Trump's government ethical standards as poor? \"\n",
    "model.invoke(image_path,system_prompt,query)"
   ]
  },
  {
   "cell_type": "code",
   "execution_count": null,
   "metadata": {},
   "outputs": [],
   "source": []
  }
 ],
 "metadata": {
  "kernelspec": {
   "display_name": "base",
   "language": "python",
   "name": "python3"
  },
  "language_info": {
   "codemirror_mode": {
    "name": "ipython",
    "version": 3
   },
   "file_extension": ".py",
   "mimetype": "text/x-python",
   "name": "python",
   "nbconvert_exporter": "python",
   "pygments_lexer": "ipython3",
   "version": "3.10.8"
  }
 },
 "nbformat": 4,
 "nbformat_minor": 2
}
